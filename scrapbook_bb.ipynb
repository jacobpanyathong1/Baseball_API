{
 "cells": [
  {
   "cell_type": "code",
   "execution_count": 11,
   "id": "c5447ff5-36ad-4cf4-b2a0-eb1ab10b8f0c",
   "metadata": {},
   "outputs": [],
   "source": [
    "import requests\n",
    "from bs4 import BeautifulSoup\n",
    "import statsapi\n",
    "from datetime import *\n",
    "import warnings\n",
    "warnings.filterwarnings('ignore')\n",
    "import re"
   ]
  },
  {
   "cell_type": "code",
   "execution_count": 5,
   "id": "49ab9e4d-447b-47ad-8632-430b03766f1c",
   "metadata": {},
   "outputs": [],
   "source": [
    "import logging\n",
    "logger = logging.getLogger('statsapi')\n",
    "logger.setLevel(logging.DEBUG)\n",
    "rootLogger = logging.getLogger()\n",
    "rootLogger.setLevel(logging.DEBUG)\n",
    "ch = logging.StreamHandler()\n",
    "formatter = logging.Formatter(\"%(asctime)s - %(levelname)8s - %(name)s(%(thread)s) - %(message)s\")\n",
    "ch.setFormatter(formatter)\n",
    "rootLogger.addHandler(ch)"
   ]
  },
  {
   "cell_type": "markdown",
   "id": "014c5fec-d708-4acb-aaf2-aca0d50bdeae",
   "metadata": {},
   "source": [
    "# Lookup Team Data"
   ]
  },
  {
   "cell_type": "code",
   "execution_count": 6,
   "id": "03c56158-0b2b-4a0a-ba3e-9b55b7ea5f55",
   "metadata": {},
   "outputs": [
    {
     "name": "stderr",
     "output_type": "stream",
     "text": [
      "2023-03-27 19:51:26,944 -    DEBUG - statsapi(8629334720) - URL: https://statsapi.mlb.com/api/{ver}/seasons/{seasonId}\n",
      "2023-03-27 19:51:26,950 -    DEBUG - statsapi(8629334720) - Found query param: sportId\n",
      "2023-03-27 19:51:26,952 -    DEBUG - statsapi(8629334720) - Found path param: seasonId\n",
      "2023-03-27 19:51:26,953 -    DEBUG - statsapi(8629334720) - path_params: {'seasonId': 'all'}\n",
      "2023-03-27 19:51:26,954 -    DEBUG - statsapi(8629334720) - query_params: {'sportId': '1'}\n",
      "2023-03-27 19:51:26,955 -    DEBUG - statsapi(8629334720) - Replacing {seasonId}\n",
      "2023-03-27 19:51:26,955 -    DEBUG - statsapi(8629334720) - URL: https://statsapi.mlb.com/api/{ver}/seasons/all\n",
      "2023-03-27 19:51:26,956 -    DEBUG - statsapi(8629334720) - Replacing {ver} with default: v1.\n",
      "2023-03-27 19:51:26,956 -    DEBUG - statsapi(8629334720) - URL: https://statsapi.mlb.com/api/v1/seasons/all\n",
      "2023-03-27 19:51:26,957 -    DEBUG - statsapi(8629334720) - Adding query parameter sportId=1\n",
      "2023-03-27 19:51:26,958 -    DEBUG - statsapi(8629334720) - URL: https://statsapi.mlb.com/api/v1/seasons/all?sportId=1\n",
      "2023-03-27 19:51:26,996 -    DEBUG - urllib3.connectionpool(8629334720) - Starting new HTTPS connection (1): statsapi.mlb.com:443\n",
      "2023-03-27 19:51:27,097 -    DEBUG - urllib3.connectionpool(8629334720) - https://statsapi.mlb.com:443 \"GET /api/v1/seasons/all?sportId=1 HTTP/1.1\" 200 None\n",
      "2023-03-27 19:51:27,112 -    DEBUG - statsapi(8629334720) - URL: https://statsapi.mlb.com/api/{ver}/teams\n",
      "2023-03-27 19:51:27,113 -    DEBUG - statsapi(8629334720) - Found query param: activeStatus\n",
      "2023-03-27 19:51:27,114 -    DEBUG - statsapi(8629334720) - Found query param: sportIds\n",
      "2023-03-27 19:51:27,115 -    DEBUG - statsapi(8629334720) - Found query param: fields\n",
      "2023-03-27 19:51:27,116 -    DEBUG - statsapi(8629334720) - Found query param: season\n",
      "2023-03-27 19:51:27,130 -    DEBUG - statsapi(8629334720) - path_params: {}\n",
      "2023-03-27 19:51:27,130 -    DEBUG - statsapi(8629334720) - query_params: {'activeStatus': 'Y', 'sportIds': '1', 'fields': 'teams,id,name,teamCode,fileCode,teamName,locationName,shortName', 'season': '2023'}\n",
      "2023-03-27 19:51:27,131 -    DEBUG - statsapi(8629334720) - Replacing {ver} with default: v1.\n",
      "2023-03-27 19:51:27,131 -    DEBUG - statsapi(8629334720) - URL: https://statsapi.mlb.com/api/v1/teams\n",
      "2023-03-27 19:51:27,131 -    DEBUG - statsapi(8629334720) - Adding query parameter activeStatus=Y\n",
      "2023-03-27 19:51:27,132 -    DEBUG - statsapi(8629334720) - URL: https://statsapi.mlb.com/api/v1/teams?activeStatus=Y\n",
      "2023-03-27 19:51:27,132 -    DEBUG - statsapi(8629334720) - Adding query parameter sportIds=1\n",
      "2023-03-27 19:51:27,132 -    DEBUG - statsapi(8629334720) - URL: https://statsapi.mlb.com/api/v1/teams?activeStatus=Y&sportIds=1\n",
      "2023-03-27 19:51:27,132 -    DEBUG - statsapi(8629334720) - Adding query parameter fields=teams,id,name,teamCode,fileCode,teamName,locationName,shortName\n",
      "2023-03-27 19:51:27,133 -    DEBUG - statsapi(8629334720) - URL: https://statsapi.mlb.com/api/v1/teams?activeStatus=Y&sportIds=1&fields=teams,id,name,teamCode,fileCode,teamName,locationName,shortName\n",
      "2023-03-27 19:51:27,133 -    DEBUG - statsapi(8629334720) - Adding query parameter season=2023\n",
      "2023-03-27 19:51:27,133 -    DEBUG - statsapi(8629334720) - URL: https://statsapi.mlb.com/api/v1/teams?activeStatus=Y&sportIds=1&fields=teams,id,name,teamCode,fileCode,teamName,locationName,shortName&season=2023\n",
      "2023-03-27 19:51:27,139 -    DEBUG - urllib3.connectionpool(8629334720) - Starting new HTTPS connection (1): statsapi.mlb.com:443\n",
      "2023-03-27 19:51:27,273 -    DEBUG - urllib3.connectionpool(8629334720) - https://statsapi.mlb.com:443 \"GET /api/v1/teams?activeStatus=Y&sportIds=1&fields=teams,id,name,teamCode,fileCode,teamName,locationName,shortName&season=2023 HTTP/1.1\" 200 None\n"
     ]
    },
    {
     "data": {
      "text/plain": [
       "[{'id': 114,\n",
       "  'name': 'Cleveland Guardians',\n",
       "  'teamCode': 'cle',\n",
       "  'fileCode': 'cle',\n",
       "  'teamName': 'Guardians',\n",
       "  'locationName': 'Cleveland',\n",
       "  'shortName': 'Cleveland'}]"
      ]
     },
     "execution_count": 6,
     "metadata": {},
     "output_type": "execute_result"
    }
   ],
   "source": [
    "statsapi.lookup_team('cle')"
   ]
  },
  {
   "cell_type": "code",
   "execution_count": 7,
   "id": "9cee3b05-432a-4a82-80da-07b6d7749feb",
   "metadata": {},
   "outputs": [
    {
     "name": "stderr",
     "output_type": "stream",
     "text": [
      "2023-03-27 19:51:27,297 -    DEBUG - statsapi(8629334720) - URL: https://statsapi.mlb.com/api/{ver}/teams/{teamId}/roster\n",
      "2023-03-27 19:51:27,298 -    DEBUG - statsapi(8629334720) - Found query param: rosterType\n",
      "2023-03-27 19:51:27,299 -    DEBUG - statsapi(8629334720) - Found query param: season\n",
      "2023-03-27 19:51:27,300 -    DEBUG - statsapi(8629334720) - Found path param: teamId\n",
      "2023-03-27 19:51:27,300 -    DEBUG - statsapi(8629334720) - path_params: {'teamId': '114'}\n",
      "2023-03-27 19:51:27,300 -    DEBUG - statsapi(8629334720) - query_params: {'rosterType': 'active', 'season': '2023'}\n",
      "2023-03-27 19:51:27,301 -    DEBUG - statsapi(8629334720) - Replacing {teamId}\n",
      "2023-03-27 19:51:27,301 -    DEBUG - statsapi(8629334720) - URL: https://statsapi.mlb.com/api/{ver}/teams/114/roster\n",
      "2023-03-27 19:51:27,301 -    DEBUG - statsapi(8629334720) - Replacing {ver} with default: v1.\n",
      "2023-03-27 19:51:27,302 -    DEBUG - statsapi(8629334720) - URL: https://statsapi.mlb.com/api/v1/teams/114/roster\n",
      "2023-03-27 19:51:27,302 -    DEBUG - statsapi(8629334720) - Adding query parameter rosterType=active\n",
      "2023-03-27 19:51:27,302 -    DEBUG - statsapi(8629334720) - URL: https://statsapi.mlb.com/api/v1/teams/114/roster?rosterType=active\n",
      "2023-03-27 19:51:27,302 -    DEBUG - statsapi(8629334720) - Adding query parameter season=2023\n",
      "2023-03-27 19:51:27,303 -    DEBUG - statsapi(8629334720) - URL: https://statsapi.mlb.com/api/v1/teams/114/roster?rosterType=active&season=2023\n",
      "2023-03-27 19:51:27,305 -    DEBUG - urllib3.connectionpool(8629334720) - Starting new HTTPS connection (1): statsapi.mlb.com:443\n",
      "2023-03-27 19:51:27,504 -    DEBUG - urllib3.connectionpool(8629334720) - https://statsapi.mlb.com:443 \"GET /api/v1/teams/114/roster?rosterType=active&season=2023 HTTP/1.1\" 200 None\n"
     ]
    }
   ],
   "source": [
    "roster=statsapi.roster(114, rosterType=None, season=datetime.now().year, date=None)"
   ]
  },
  {
   "cell_type": "code",
   "execution_count": 8,
   "id": "44d8757b-1c0c-4462-9f76-b994f99ab9af",
   "metadata": {},
   "outputs": [
    {
     "data": {
      "text/plain": [
       "'#43  P   Aaron Civale\\n#1   SS  Amed Rosario\\n#0   2B  Andres Gimenez\\n#47  P   Cal Quantrill\\n#36  P   Cody Morris\\n#49  P   Eli Morgan\\n#48  P   Emmanuel Clase\\n#62  P   Enyel De Los Santos\\n#8   3B  Gabriel Arias\\n#70  P   Hunter Gaddis\\n#99  P   James Karinchak\\n#11  3B  Jose Ramirez\\n#55  1B  Josh Bell\\n#22  1B  Josh Naylor\\n#10  C   Mike Zunino\\n#7   CF  Myles Straw\\n#52  P   Nick Sandlin\\n#39  RF  Oscar Gonzalez\\n#31  P   Sam Hentges\\n#57  P   Shane Bieber\\n#38  LF  Steven Kwan\\n#73  P   Tim Herrin\\n#37  P   Trevor Stephan\\n#24  P   Triston McKenzie\\n#63  LF  Will Brennan\\n#34  P   Zach Plesac\\n'"
      ]
     },
     "execution_count": 8,
     "metadata": {},
     "output_type": "execute_result"
    }
   ],
   "source": [
    "roster"
   ]
  },
  {
   "cell_type": "code",
   "execution_count": 25,
   "id": "3caa31a0-b998-4240-b2d8-e2b9771e3cdc",
   "metadata": {},
   "outputs": [
    {
     "data": {
      "text/plain": [
       "[]"
      ]
     },
     "execution_count": 25,
     "metadata": {},
     "output_type": "execute_result"
    }
   ],
   "source": [
    "re.findall(r'(^\\W..\\Z)', roster)"
   ]
  },
  {
   "cell_type": "code",
   "execution_count": 30,
   "id": "ab05bcd3-3320-4648-bed4-5d043ec6efaf",
   "metadata": {},
   "outputs": [],
   "source": [
    "import re\n",
    "\n",
    "# Split the string by newline character\n",
    "values_roster = roster.split(\"\\n\")"
   ]
  },
  {
   "cell_type": "code",
   "execution_count": 340,
   "id": "79e435bd-11b0-4fdf-9513-a715e183b806",
   "metadata": {},
   "outputs": [
    {
     "data": {
      "text/plain": [
       "['#43  P   Aaron Civale',\n",
       " '#1   SS  Amed Rosario',\n",
       " '#0   2B  Andres Gimenez',\n",
       " '#47  P   Cal Quantrill',\n",
       " '#36  P   Cody Morris',\n",
       " '#49  P   Eli Morgan',\n",
       " '#48  P   Emmanuel Clase',\n",
       " '#62  P   Enyel De Los Santos',\n",
       " '#8   3B  Gabriel Arias',\n",
       " '#70  P   Hunter Gaddis',\n",
       " '#99  P   James Karinchak',\n",
       " '#11  3B  Jose Ramirez',\n",
       " '#55  1B  Josh Bell',\n",
       " '#22  1B  Josh Naylor',\n",
       " '#10  C   Mike Zunino',\n",
       " '#7   CF  Myles Straw',\n",
       " '#52  P   Nick Sandlin',\n",
       " '#39  RF  Oscar Gonzalez',\n",
       " '#31  P   Sam Hentges',\n",
       " '#57  P   Shane Bieber',\n",
       " '#38  LF  Steven Kwan',\n",
       " '#73  P   Tim Herrin',\n",
       " '#37  P   Trevor Stephan',\n",
       " '#24  P   Triston McKenzie',\n",
       " '#63  LF  Will Brennan',\n",
       " '#34  P   Zach Plesac',\n",
       " '']"
      ]
     },
     "execution_count": 340,
     "metadata": {},
     "output_type": "execute_result"
    }
   ],
   "source": [
    "values_roster"
   ]
  },
  {
   "cell_type": "code",
   "execution_count": 341,
   "id": "48470203-95f5-4cd8-a3ba-1f40c50de0aa",
   "metadata": {},
   "outputs": [],
   "source": [
    "\n",
    "def get_numbers_list(values_roster):\n",
    "\n",
    "    # Regex pattern to match integers after a hash symbol\n",
    "    hashtag_pattern = re.compile(r'#(\\d+)')\n",
    "\n",
    "    # Initialize a new list to store the extracted integer values\n",
    "    integer_values = []\n",
    "\n",
    "    # Loop through each string in the list and find all integer values after a hash symbol\n",
    "    for text in values_roster:\n",
    "        matches = hashtag_pattern.findall(text)\n",
    "        for match in matches:\n",
    "            integer_values.append(int(match))\n",
    "\n",
    "    # Print the resulting list of integer values\n",
    "    number_list= integer_values\n",
    "    return number_list"
   ]
  },
  {
   "cell_type": "code",
   "execution_count": 342,
   "id": "1d58d0e6-88c6-4e5f-ae7f-159898d45df9",
   "metadata": {},
   "outputs": [
    {
     "data": {
      "text/plain": [
       "26"
      ]
     },
     "execution_count": 342,
     "metadata": {},
     "output_type": "execute_result"
    }
   ],
   "source": [
    "len(number_list)"
   ]
  },
  {
   "cell_type": "code",
   "execution_count": 343,
   "id": "acde0d78-af29-4a39-bda7-c1c43740a3f6",
   "metadata": {},
   "outputs": [],
   "source": [
    "import re\n",
    "def get_positions(roster):\n",
    "    # Regex pattern to match values between two spaces with a space after the space\n",
    "    pattern = re.compile(r'\\s(\\w+)\\s\\s')\n",
    "\n",
    "    # Find all matches of the pattern in the string\n",
    "    matches = pattern.findall(roster)\n",
    "\n",
    "    # Extract only the matched values (without the space at the end) and store them in a list\n",
    "    pp = [match.strip() for match in matches]\n",
    "\n",
    "    return pp\n",
    "\n"
   ]
  },
  {
   "cell_type": "code",
   "execution_count": 344,
   "id": "3cde8acb-8479-4a22-91d1-fc4339681d36",
   "metadata": {},
   "outputs": [],
   "source": [
    "positions_list=get_positions(roster)"
   ]
  },
  {
   "cell_type": "code",
   "execution_count": 345,
   "id": "b02dac4a-15af-4eb1-a44c-0a8d6e9214fa",
   "metadata": {},
   "outputs": [
    {
     "data": {
      "text/plain": [
       "26"
      ]
     },
     "execution_count": 345,
     "metadata": {},
     "output_type": "execute_result"
    }
   ],
   "source": [
    "len(positions_list)"
   ]
  },
  {
   "cell_type": "code",
   "execution_count": 346,
   "id": "cc7a50b8-86ae-4db4-b174-90e6d6383e6d",
   "metadata": {},
   "outputs": [],
   "source": [
    "import re\n",
    "def get_player_names(roster):\n",
    "\n",
    "    # Regex pattern to match names in the format \"first name last name\" separated by spaces\n",
    "    pattern = re.compile(r'\\s+\\w+\\s+\\w+\\s+([A-Za-z]+)\\s+([A-Za-z]+)')\n",
    "\n",
    "    # Find all matches of the pattern in the string\n",
    "    matches = pattern.findall(roster)\n",
    "\n",
    "    # Print the resulting list of matches\n",
    "    return matches\n",
    "\n",
    "\n",
    "\n"
   ]
  },
  {
   "cell_type": "code",
   "execution_count": 347,
   "id": "f37bd655-d2b0-48d1-86b4-dcf271d05930",
   "metadata": {},
   "outputs": [],
   "source": [
    "player_names= get_player_names(roster)"
   ]
  },
  {
   "cell_type": "code",
   "execution_count": 348,
   "id": "86f5b098-19d1-4a84-bf54-11c63d9d5085",
   "metadata": {},
   "outputs": [
    {
     "data": {
      "text/plain": [
       "[('De', 'Los')]"
      ]
     },
     "execution_count": 348,
     "metadata": {},
     "output_type": "execute_result"
    }
   ],
   "source": [
    "player_names"
   ]
  },
  {
   "cell_type": "code",
   "execution_count": 349,
   "id": "0302ff1b-2f12-49b6-abe2-aa3382f5c500",
   "metadata": {},
   "outputs": [],
   "source": [
    "def clean_list_player_names(player_names):\n",
    "\n",
    "    player_names[7]='Enyel De Los Santos'\n",
    "    \n",
    "    #print(player_names[7]='Enyel De Los Santos')\n",
    "    player_names.pop(7)\n",
    "    print(player_names.pop(7))\n",
    "    # Create a new list that excludes the element at index 2\n",
    "    player_name = [element for index, element in enumerate(player_names) if index != 6]\n",
    "    \n",
    "    return player_name"
   ]
  },
  {
   "cell_type": "code",
   "execution_count": 350,
   "id": "51274711-033d-4fbb-a38d-9666824478a3",
   "metadata": {},
   "outputs": [
    {
     "ename": "IndexError",
     "evalue": "list assignment index out of range",
     "output_type": "error",
     "traceback": [
      "\u001b[0;31m---------------------------------------------------------------------------\u001b[0m",
      "\u001b[0;31mIndexError\u001b[0m                                Traceback (most recent call last)",
      "\u001b[0;32m/var/folders/6g/l26q8gx91f157w7v1zccg2wm0000gq/T/ipykernel_85419/1171666008.py\u001b[0m in \u001b[0;36m<module>\u001b[0;34m\u001b[0m\n\u001b[0;32m----> 1\u001b[0;31m \u001b[0mplayers_list\u001b[0m\u001b[0;34m=\u001b[0m\u001b[0mclean_list_player_names\u001b[0m\u001b[0;34m(\u001b[0m\u001b[0mplayer_names\u001b[0m\u001b[0;34m)\u001b[0m\u001b[0;34m\u001b[0m\u001b[0;34m\u001b[0m\u001b[0m\n\u001b[0m",
      "\u001b[0;32m/var/folders/6g/l26q8gx91f157w7v1zccg2wm0000gq/T/ipykernel_85419/1510205311.py\u001b[0m in \u001b[0;36mclean_list_player_names\u001b[0;34m(player_names)\u001b[0m\n\u001b[1;32m      1\u001b[0m \u001b[0;32mdef\u001b[0m \u001b[0mclean_list_player_names\u001b[0m\u001b[0;34m(\u001b[0m\u001b[0mplayer_names\u001b[0m\u001b[0;34m)\u001b[0m\u001b[0;34m:\u001b[0m\u001b[0;34m\u001b[0m\u001b[0;34m\u001b[0m\u001b[0m\n\u001b[1;32m      2\u001b[0m \u001b[0;34m\u001b[0m\u001b[0m\n\u001b[0;32m----> 3\u001b[0;31m     \u001b[0mplayer_names\u001b[0m\u001b[0;34m[\u001b[0m\u001b[0;36m7\u001b[0m\u001b[0;34m]\u001b[0m\u001b[0;34m=\u001b[0m\u001b[0;34m'Enyel De Los Santos'\u001b[0m\u001b[0;34m\u001b[0m\u001b[0;34m\u001b[0m\u001b[0m\n\u001b[0m\u001b[1;32m      4\u001b[0m \u001b[0;34m\u001b[0m\u001b[0m\n\u001b[1;32m      5\u001b[0m     \u001b[0;31m#print(player_names[7]='Enyel De Los Santos')\u001b[0m\u001b[0;34m\u001b[0m\u001b[0;34m\u001b[0m\u001b[0m\n",
      "\u001b[0;31mIndexError\u001b[0m: list assignment index out of range"
     ]
    }
   ],
   "source": [
    "players_list=clean_list_player_names(player_names)"
   ]
  },
  {
   "cell_type": "code",
   "execution_count": 351,
   "id": "d87446c2-a8b9-407a-af6e-923ed4b73c7d",
   "metadata": {},
   "outputs": [
    {
     "data": {
      "text/plain": [
       "['Aaron Civale',\n",
       " 'Amed Rosario',\n",
       " 'Andres Gimenez',\n",
       " 'Cal Quantrill',\n",
       " 'Cody Morris',\n",
       " 'Eli Morgan',\n",
       " 'Gabriel Arias',\n",
       " 'Hunter Gaddis',\n",
       " 'Jose Ramirez',\n",
       " 'Josh Bell',\n",
       " 'Josh Naylor',\n",
       " 'Mike Zunino',\n",
       " 'Myles Straw',\n",
       " 'Nick Sandlin',\n",
       " 'Oscar Gonzalez',\n",
       " 'Sam Hentges',\n",
       " 'Shane Bieber',\n",
       " 'Steven Kwan',\n",
       " 'Tim Herrin',\n",
       " 'Trevor Stephan',\n",
       " 'Triston McKenzie',\n",
       " 'Will Brennan',\n",
       " 'Zach Plesac']"
      ]
     },
     "execution_count": 351,
     "metadata": {},
     "output_type": "execute_result"
    }
   ],
   "source": [
    "players_list"
   ]
  },
  {
   "cell_type": "code",
   "execution_count": 352,
   "id": "ee3dfdda-9584-4e2d-b868-69e7fb692c5a",
   "metadata": {},
   "outputs": [
    {
     "data": {
      "text/plain": [
       "23"
      ]
     },
     "execution_count": 352,
     "metadata": {},
     "output_type": "execute_result"
    }
   ],
   "source": [
    "len(players_list)"
   ]
  },
  {
   "cell_type": "code",
   "execution_count": null,
   "id": "22cf0df8-113d-4a52-a144-591ae8c315b6",
   "metadata": {},
   "outputs": [],
   "source": []
  }
 ],
 "metadata": {
  "kernelspec": {
   "display_name": "Python 3 (ipykernel)",
   "language": "python",
   "name": "python3"
  },
  "language_info": {
   "codemirror_mode": {
    "name": "ipython",
    "version": 3
   },
   "file_extension": ".py",
   "mimetype": "text/x-python",
   "name": "python",
   "nbconvert_exporter": "python",
   "pygments_lexer": "ipython3",
   "version": "3.9.13"
  }
 },
 "nbformat": 4,
 "nbformat_minor": 5
}
